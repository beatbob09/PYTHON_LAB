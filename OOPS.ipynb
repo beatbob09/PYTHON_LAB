{
 "cells": [
  {
   "cell_type": "code",
   "execution_count": null,
   "id": "448fa04f",
   "metadata": {},
   "outputs": [],
   "source": [
    "#Basic of OOps is Encapsulation\n",
    "#Access Specifiers-> Public,Private"
   ]
  },
  {
   "cell_type": "code",
   "execution_count": 5,
   "id": "a8d8846d",
   "metadata": {},
   "outputs": [
    {
     "name": "stdout",
     "output_type": "stream",
     "text": [
      "Enter the Name: Badal\n",
      "Badal\n",
      "20000\n"
     ]
    }
   ],
   "source": [
    "class Employee:\n",
    " pass\n",
    "    \n",
    "\n",
    "emp1 = Employee()\n",
    "name = input(\"Enter the Name: \")\n",
    "\n",
    "\n",
    "#assigning name to emp1 as attribute\n",
    "emp1.name = name\n",
    "emp1.salary = 20000\n",
    "\n",
    "print(emp1.name)\n",
    "print(emp1.salary)\n"
   ]
  },
  {
   "cell_type": "code",
   "execution_count": 6,
   "id": "46c7a2e8",
   "metadata": {},
   "outputs": [
    {
     "data": {
      "text/plain": [
       "__main__.Employee"
      ]
     },
     "execution_count": 6,
     "metadata": {},
     "output_type": "execute_result"
    }
   ],
   "source": [
    "type(emp1)"
   ]
  },
  {
   "cell_type": "code",
   "execution_count": 13,
   "id": "70487363",
   "metadata": {},
   "outputs": [
    {
     "name": "stdout",
     "output_type": "stream",
     "text": [
      "Badal\n",
      "Hotel Management\n",
      "45000\n"
     ]
    }
   ],
   "source": [
    "class Employee:\n",
    "    def __init__(self,name,department,salary):\n",
    "        self.name = name\n",
    "        self.salary = salary\n",
    "        self.department = department\n",
    "        \n",
    "    def show(self):\n",
    "        print(self.name)\n",
    "        print(self.salary)\n",
    "        print(self.department)\n",
    "        \n",
    " \n",
    "emp2 = Employee('Badal',45000,'Hotel Management')\n",
    "emp2.show()"
   ]
  },
  {
   "cell_type": "code",
   "execution_count": 15,
   "id": "fd4e120a",
   "metadata": {},
   "outputs": [
    {
     "name": "stdout",
     "output_type": "stream",
     "text": [
      "Name of car is :  TATA\n"
     ]
    }
   ],
   "source": [
    "class Car:\n",
    "    \n",
    "    def set_name(self,name):\n",
    "        self.name = name\n",
    "    def get_name(self):\n",
    "        return self.name\n",
    "    \n",
    "C1= Car()\n",
    "C1.set_name(\"TATA\")\n",
    "print(\"Name of car is : \",C1.get_name())"
   ]
  },
  {
   "cell_type": "code",
   "execution_count": 18,
   "id": "1fdeb22f",
   "metadata": {},
   "outputs": [
    {
     "name": "stdout",
     "output_type": "stream",
     "text": [
      "Name of the student is:  Roshan\n",
      "Age: 23 years \n",
      "Name of the student is:  Badal\n",
      "Age: 24 years \n"
     ]
    }
   ],
   "source": [
    "class Student:\n",
    "    \n",
    "    def __init__(self,name,age):\n",
    "        self.name = name\n",
    "        self.age = age\n",
    "        \n",
    "    def show(self):\n",
    "        print(\"Name of the student is: \",self.name)\n",
    "        print(f\"Age: {self.age} years \")\n",
    "        \n",
    "Std1= Student(\"Roshan\", 23)\n",
    "Std1.show()\n",
    "\n",
    "Std2 = Student(\"Badal\", 24)\n",
    "Std2.show()"
   ]
  },
  {
   "cell_type": "code",
   "execution_count": null,
   "id": "91f4ebd2",
   "metadata": {},
   "outputs": [],
   "source": []
  }
 ],
 "metadata": {
  "kernelspec": {
   "display_name": "Python 3 (ipykernel)",
   "language": "python",
   "name": "python3"
  },
  "language_info": {
   "codemirror_mode": {
    "name": "ipython",
    "version": 3
   },
   "file_extension": ".py",
   "mimetype": "text/x-python",
   "name": "python",
   "nbconvert_exporter": "python",
   "pygments_lexer": "ipython3",
   "version": "3.11.5"
  }
 },
 "nbformat": 4,
 "nbformat_minor": 5
}
