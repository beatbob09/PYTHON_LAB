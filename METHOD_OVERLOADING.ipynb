{
 "cells": [
  {
   "cell_type": "code",
   "execution_count": 5,
   "id": "7995a40e",
   "metadata": {},
   "outputs": [
    {
     "name": "stdout",
     "output_type": "stream",
     "text": [
      "Bob\n",
      "Goodday\n",
      "Hello Bob\n",
      "Hello Bob Goodday\n",
      "Hello\n"
     ]
    }
   ],
   "source": [
    "class Greeting:\n",
    "    def say_hello(self ,name = None , wish = None):\n",
    "        if name is not None and wish is not None:\n",
    "            print(f\"Hello {name} {wish}\")\n",
    "        elif name is not None and wish is None:\n",
    "            print(f\"Hello {name}\")\n",
    "        else:\n",
    "            print(\"Hello\")\n",
    "            \n",
    "\n",
    " #for same function we are using combination of arguments and calling it thats method overloading\n",
    "#the method can be called in different ways with 0 ,1 ,2 . arguments\n",
    "greet = Greeting()\n",
    "a = input()\n",
    "b = input()\n",
    "greet.say_hello(a)\n",
    "greet.say_hello(a,b)\n",
    "greet.say_hello()\n",
    "\n",
    "        \n",
    "        "
   ]
  },
  {
   "cell_type": "code",
   "execution_count": null,
   "id": "90cf543e",
   "metadata": {},
   "outputs": [],
   "source": []
  }
 ],
 "metadata": {
  "kernelspec": {
   "display_name": "Python 3 (ipykernel)",
   "language": "python",
   "name": "python3"
  },
  "language_info": {
   "codemirror_mode": {
    "name": "ipython",
    "version": 3
   },
   "file_extension": ".py",
   "mimetype": "text/x-python",
   "name": "python",
   "nbconvert_exporter": "python",
   "pygments_lexer": "ipython3",
   "version": "3.11.5"
  }
 },
 "nbformat": 4,
 "nbformat_minor": 5
}
