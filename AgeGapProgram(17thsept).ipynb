{
 "cells": [
  {
   "cell_type": "code",
   "execution_count": 12,
   "id": "9d599be4",
   "metadata": {},
   "outputs": [],
   "source": [
    "class Birthdayboy:\n",
    "    \n",
    "    def __init__(self,current_year,your_Birth_year,your_Sibling_Birthyear):\n",
    "        \n",
    "        self.current_year = current_year\n",
    "        self.your_Birth_year = your_Birth_year\n",
    "        self.your_Sibling_Birthyear = your_Sibling_Birthyear\n",
    "        \n",
    "    def age(self):\n",
    "        #age gap bw you and sibling\n",
    "        age_gap = abs(self.your_Birth_year - self.your_Sibling_Birthyear)\n",
    "        print(f\"The age Gap bwn you and your sibling is {age_gap} Years\")\n",
    "        "
   ]
  },
  {
   "cell_type": "code",
   "execution_count": 13,
   "id": "3ddbea9c",
   "metadata": {},
   "outputs": [
    {
     "name": "stdout",
     "output_type": "stream",
     "text": [
      "The age Gap bwn you and your sibling is 8 Years\n"
     ]
    }
   ],
   "source": [
    "B = Birthdayboy(2024,2002,2010)\n",
    "B.age()"
   ]
  },
  {
   "cell_type": "code",
   "execution_count": null,
   "id": "805265ef",
   "metadata": {},
   "outputs": [],
   "source": []
  }
 ],
 "metadata": {
  "kernelspec": {
   "display_name": "Python 3 (ipykernel)",
   "language": "python",
   "name": "python3"
  },
  "language_info": {
   "codemirror_mode": {
    "name": "ipython",
    "version": 3
   },
   "file_extension": ".py",
   "mimetype": "text/x-python",
   "name": "python",
   "nbconvert_exporter": "python",
   "pygments_lexer": "ipython3",
   "version": "3.11.5"
  }
 },
 "nbformat": 4,
 "nbformat_minor": 5
}
