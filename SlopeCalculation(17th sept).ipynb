{
 "cells": [
  {
   "cell_type": "code",
   "execution_count": 1,
   "id": "70a17dc3",
   "metadata": {},
   "outputs": [],
   "source": [
    "class Point:\n",
    "    \n",
    "    def __init__(self,x1,x2,y1,y2):\n",
    "        self.x1 = x1\n",
    "        self.x2 = x2       \n",
    "        self.y1 = y1        \n",
    "        self.y2 = y2        \n",
    "        \n",
    "    def slope(self):\n",
    "        result = (self.y2 - self.y1)/(self.x2 - self.x1)\n",
    "        print(f\"The resultant slope of given points in {result}\")"
   ]
  },
  {
   "cell_type": "code",
   "execution_count": 2,
   "id": "010abd7d",
   "metadata": {},
   "outputs": [
    {
     "name": "stdout",
     "output_type": "stream",
     "text": [
      "The resultant slope of given points in 1.0\n"
     ]
    }
   ],
   "source": [
    "p = Point(2,3,3,4)\n",
    "p.slope()"
   ]
  },
  {
   "cell_type": "code",
   "execution_count": 3,
   "id": "b70077a2",
   "metadata": {},
   "outputs": [
    {
     "name": "stdout",
     "output_type": "stream",
     "text": [
      "The resultant slope of given points in 1.0\n"
     ]
    }
   ],
   "source": [
    "p2 = Point(5,4,7,4)\n",
    "p.slope()"
   ]
  },
  {
   "cell_type": "code",
   "execution_count": null,
   "id": "b99c2a86",
   "metadata": {},
   "outputs": [],
   "source": [
    "- wij = wij + lr(t-o)x\n",
    "MLP - perceptron Sl .act fn,nodes values,input,weights 3 layers , feed forward\n",
    "Backpropagation - iterative algo helps to  minimise the cost fn by adjusting thw weights and bias ,model learns by adapting to w and bias\n",
    "to minimise loss by moving down toards gradient of error.\n",
    "Backppn works by two diff passes:\n",
    "    feed forward - "
   ]
  }
 ],
 "metadata": {
  "kernelspec": {
   "display_name": "Python 3 (ipykernel)",
   "language": "python",
   "name": "python3"
  },
  "language_info": {
   "codemirror_mode": {
    "name": "ipython",
    "version": 3
   },
   "file_extension": ".py",
   "mimetype": "text/x-python",
   "name": "python",
   "nbconvert_exporter": "python",
   "pygments_lexer": "ipython3",
   "version": "3.11.5"
  }
 },
 "nbformat": 4,
 "nbformat_minor": 5
}
