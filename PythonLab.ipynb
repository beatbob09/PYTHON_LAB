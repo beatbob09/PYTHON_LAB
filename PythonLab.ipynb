{
  "nbformat": 4,
  "nbformat_minor": 0,
  "metadata": {
    "colab": {
      "provenance": []
    },
    "kernelspec": {
      "name": "python3",
      "display_name": "Python 3"
    },
    "language_info": {
      "name": "python"
    }
  },
  "cells": [
    {
      "cell_type": "code",
      "execution_count": null,
      "metadata": {
        "colab": {
          "base_uri": "https://localhost:8080/"
        },
        "id": "WHqhCjpZ9h9g",
        "outputId": "9e98b6a8-9fe4-4ec9-e403-b6ce1bc6fa97"
      },
      "outputs": [
        {
          "output_type": "stream",
          "name": "stdout",
          "text": [
            "Hello,world\n"
          ]
        }
      ],
      "source": [
        "print(\"Hello,world\")"
      ]
    },
    {
      "cell_type": "code",
      "source": [
        "import this"
      ],
      "metadata": {
        "colab": {
          "base_uri": "https://localhost:8080/"
        },
        "id": "thByRZ2Z9s7p",
        "outputId": "ac86369c-a929-4d93-ebda-bb140f2d771a"
      },
      "execution_count": null,
      "outputs": [
        {
          "output_type": "stream",
          "name": "stdout",
          "text": [
            "The Zen of Python, by Tim Peters\n",
            "\n",
            "Beautiful is better than ugly.\n",
            "Explicit is better than implicit.\n",
            "Simple is better than complex.\n",
            "Complex is better than complicated.\n",
            "Flat is better than nested.\n",
            "Sparse is better than dense.\n",
            "Readability counts.\n",
            "Special cases aren't special enough to break the rules.\n",
            "Although practicality beats purity.\n",
            "Errors should never pass silently.\n",
            "Unless explicitly silenced.\n",
            "In the face of ambiguity, refuse the temptation to guess.\n",
            "There should be one-- and preferably only one --obvious way to do it.\n",
            "Although that way may not be obvious at first unless you're Dutch.\n",
            "Now is better than never.\n",
            "Although never is often better than *right* now.\n",
            "If the implementation is hard to explain, it's a bad idea.\n",
            "If the implementation is easy to explain, it may be a good idea.\n",
            "Namespaces are one honking great idea -- let's do more of those!\n"
          ]
        }
      ]
    },
    {
      "cell_type": "code",
      "source": [
        "print(\"Hey\",10,2.2,\"Hello\")"
      ],
      "metadata": {
        "colab": {
          "base_uri": "https://localhost:8080/"
        },
        "id": "adKGKZ_l_UMl",
        "outputId": "6f012820-c9a7-431d-c402-299f63af1971"
      },
      "execution_count": null,
      "outputs": [
        {
          "output_type": "stream",
          "name": "stdout",
          "text": [
            "Hey 10 2.2 Hello\n"
          ]
        }
      ]
    },
    {
      "cell_type": "code",
      "source": [
        "print(2+2)"
      ],
      "metadata": {
        "colab": {
          "base_uri": "https://localhost:8080/"
        },
        "id": "fKUdBrkb_6zE",
        "outputId": "cedc595b-329b-4f3d-ba25-c0d43b59be67"
      },
      "execution_count": null,
      "outputs": [
        {
          "output_type": "stream",
          "name": "stdout",
          "text": [
            "4\n"
          ]
        }
      ]
    },
    {
      "cell_type": "code",
      "source": [
        "s = input()"
      ],
      "metadata": {
        "colab": {
          "base_uri": "https://localhost:8080/"
        },
        "id": "Gt-lW-2V__Zz",
        "outputId": "bd2277f8-de7a-4360-e3d3-75ce724e0b5c"
      },
      "execution_count": null,
      "outputs": [
        {
          "name": "stdout",
          "output_type": "stream",
          "text": [
            "45\n"
          ]
        }
      ]
    },
    {
      "cell_type": "code",
      "source": [
        "print(type(s))"
      ],
      "metadata": {
        "colab": {
          "base_uri": "https://localhost:8080/"
        },
        "id": "jmUGa09UAUq9",
        "outputId": "bfa3cb7f-605e-49d0-c1b1-394a38425c71"
      },
      "execution_count": null,
      "outputs": [
        {
          "output_type": "stream",
          "name": "stdout",
          "text": [
            "<class 'str'>\n"
          ]
        }
      ]
    },
    {
      "cell_type": "code",
      "source": [
        "x =90\n",
        "print(type(x))"
      ],
      "metadata": {
        "colab": {
          "base_uri": "https://localhost:8080/"
        },
        "id": "6J1V-9s8BBLD",
        "outputId": "1855fa18-3ef4-42ef-b3d3-d8fab685f5d7"
      },
      "execution_count": null,
      "outputs": [
        {
          "output_type": "stream",
          "name": "stdout",
          "text": [
            "<class 'int'>\n"
          ]
        }
      ]
    },
    {
      "cell_type": "code",
      "source": [
        "name = input()\n",
        "\n",
        "print(\"you are\",name.upper())\n",
        "print(\"you are\",name.lower())\n",
        "print(\"you are\",name.isdecimal())\n",
        "print(name.replace('a','b'))\n"
      ],
      "metadata": {
        "colab": {
          "base_uri": "https://localhost:8080/"
        },
        "id": "qBFsPf9bBECP",
        "outputId": "89d9161e-c588-4f95-ec92-c019b84299a2"
      },
      "execution_count": null,
      "outputs": [
        {
          "output_type": "stream",
          "name": "stdout",
          "text": [
            "beatbob\n",
            "you are BEATBOB\n",
            "you are beatbob\n",
            "you are False\n",
            "bebtbob\n"
          ]
        }
      ]
    },
    {
      "cell_type": "code",
      "source": [
        "#var - reserved memory location\n",
        "s = \"esh\"\n",
        "a = 2\n",
        "b = 4.5"
      ],
      "metadata": {
        "id": "hW5v9nJVvXKo"
      },
      "execution_count": null,
      "outputs": []
    },
    {
      "cell_type": "code",
      "source": [
        "print(type(a))\n",
        "print(type(b))\n",
        "print(type(s))\n"
      ],
      "metadata": {
        "colab": {
          "base_uri": "https://localhost:8080/"
        },
        "id": "9m6MrW7_yK1L",
        "outputId": "42c8c427-2c9c-4310-d121-7524263ff26a"
      },
      "execution_count": null,
      "outputs": [
        {
          "output_type": "stream",
          "name": "stdout",
          "text": [
            "<class 'int'>\n",
            "<class 'float'>\n",
            "<class 'str'>\n"
          ]
        }
      ]
    },
    {
      "cell_type": "markdown",
      "source": [
        "2)MATH FUNCTIONS IN **PYTHON**\n",
        " abs()\n",
        " pow()\n",
        " round()"
      ],
      "metadata": {
        "id": "9BxWDQ8Rzgjh"
      }
    },
    {
      "cell_type": "code",
      "source": [
        "abs(-2)"
      ],
      "metadata": {
        "colab": {
          "base_uri": "https://localhost:8080/"
        },
        "id": "kfduzyp5yTUS",
        "outputId": "c009c6d2-ec84-4bf1-94f4-cd6f6c992a70"
      },
      "execution_count": null,
      "outputs": [
        {
          "output_type": "execute_result",
          "data": {
            "text/plain": [
              "2"
            ]
          },
          "metadata": {},
          "execution_count": 4
        }
      ]
    },
    {
      "cell_type": "code",
      "source": [
        "pow(2,4)\n",
        "3**3"
      ],
      "metadata": {
        "colab": {
          "base_uri": "https://localhost:8080/"
        },
        "id": "b-XdoEGczyS2",
        "outputId": "603845de-a8b4-498b-b78d-c0e23bfec4a1"
      },
      "execution_count": null,
      "outputs": [
        {
          "output_type": "execute_result",
          "data": {
            "text/plain": [
              "27"
            ]
          },
          "metadata": {},
          "execution_count": 9
        }
      ]
    },
    {
      "cell_type": "code",
      "source": [
        "round(109.789,2)"
      ],
      "metadata": {
        "colab": {
          "base_uri": "https://localhost:8080/"
        },
        "id": "TSERip3Xz1Sp",
        "outputId": "f6f092f8-d6ac-4d1a-8444-ac0dca18418f"
      },
      "execution_count": null,
      "outputs": [
        {
          "output_type": "execute_result",
          "data": {
            "text/plain": [
              "109.79"
            ]
          },
          "metadata": {},
          "execution_count": 10
        }
      ]
    },
    {
      "cell_type": "markdown",
      "source": [
        "STRINGS"
      ],
      "metadata": {
        "id": "0uqLqRAl0gqL"
      }
    },
    {
      "cell_type": "code",
      "source": [
        "round(53.95)\n",
        "#string formatting using \"f\"\n",
        "print(f\"This is a {4+4}\")"
      ],
      "metadata": {
        "colab": {
          "base_uri": "https://localhost:8080/"
        },
        "id": "Nr_7apzfz6YF",
        "outputId": "04e6f27b-f94d-421f-afe8-4e5161b9a178"
      },
      "execution_count": null,
      "outputs": [
        {
          "output_type": "stream",
          "name": "stdout",
          "text": [
            "This is a 8\n"
          ]
        }
      ]
    },
    {
      "cell_type": "code",
      "source": [
        "x = float(input(\"Enter the weight in kg: \"))\n",
        "\n",
        "res = x * 2.2046\n",
        "\n",
        "print(f\"Kg to lbs conversion: {x}kgs = \", res ,\"lbs\")\n"
      ],
      "metadata": {
        "colab": {
          "base_uri": "https://localhost:8080/"
        },
        "id": "P5cv-ByW27eM",
        "outputId": "dd12ce27-d74a-4789-ec21-0f301bee210f"
      },
      "execution_count": null,
      "outputs": [
        {
          "output_type": "stream",
          "name": "stdout",
          "text": [
            "Enter the weight in kg: 80\n",
            "Kg to lbs conversion: 80.0kgs =  176.368 lbs\n"
          ]
        }
      ]
    },
    {
      "cell_type": "code",
      "source": [
        "#circumference of a circle\n",
        "\n",
        "r =float(input(\"Enter the radius: \"))\n",
        "\n",
        "circumference = 2* 3.14 * r\n",
        "\n",
        "print(f\"The result in {circumference} cm\")"
      ],
      "metadata": {
        "colab": {
          "base_uri": "https://localhost:8080/"
        },
        "id": "QQwsKeaX39EJ",
        "outputId": "ff27200c-afc2-419c-a28a-a04a6fad723f"
      },
      "execution_count": null,
      "outputs": [
        {
          "output_type": "stream",
          "name": "stdout",
          "text": [
            "Enter the radius: 9\n",
            "The result in 56.52 cm\n"
          ]
        }
      ]
    },
    {
      "cell_type": "code",
      "source": [
        "x = 70\n",
        "x = (70*3 )\n",
        "x = x +6\n",
        "x = x//3\n",
        "num = x-10\n",
        "print(num)\n",
        "\n"
      ],
      "metadata": {
        "colab": {
          "base_uri": "https://localhost:8080/"
        },
        "id": "m-9PxChX5BG9",
        "outputId": "64382380-98ad-4c31-dabf-f3288c404545"
      },
      "execution_count": null,
      "outputs": [
        {
          "output_type": "stream",
          "name": "stdout",
          "text": [
            "62\n"
          ]
        }
      ]
    },
    {
      "cell_type": "code",
      "source": [
        "#Type conversion\n",
        "name = input(\"Whats your name: \")\n",
        "print(f\"Hello {name}\")\n",
        "\n",
        "birth_year = int(input(\"Enter your birth year: \"))\n",
        "print(f\"You are {2024 - birth_year} years old\")"
      ],
      "metadata": {
        "colab": {
          "base_uri": "https://localhost:8080/"
        },
        "id": "UyA0y5yd7lsB",
        "outputId": "b20aed6f-8271-40bd-ead2-967aecc9a9d2"
      },
      "execution_count": null,
      "outputs": [
        {
          "output_type": "stream",
          "name": "stdout",
          "text": [
            "Whats your name: Roshan\n",
            "Hello Roshan\n",
            "Enter your birth year: 2000\n",
            "You are 24 years old\n"
          ]
        }
      ]
    },
    {
      "cell_type": "code",
      "source": [
        "#product\n",
        "a = float(input(\"Enter a: \"))\n",
        "b = float(input(\"Enter b: \"))\n",
        "\n",
        "product = a*b\n",
        "print(f\"Product of a and b is :{product}\")"
      ],
      "metadata": {
        "colab": {
          "base_uri": "https://localhost:8080/"
        },
        "id": "Zjy9b_Qj_OZF",
        "outputId": "01d1d43f-9203-4684-c0f3-5d4769d06d49"
      },
      "execution_count": null,
      "outputs": [
        {
          "output_type": "stream",
          "name": "stdout",
          "text": [
            "Enter a: 45\n",
            "Enter b: 6\n",
            "Product of a and b is :270.0\n"
          ]
        }
      ]
    },
    {
      "cell_type": "code",
      "source": [
        "#Calculate how many days,seconds,minutes has passed since the user was born\n",
        "x = int(input(\"Enter your age in years : \"))\n",
        "#calculate how many days\n",
        "\n",
        "days = x*365\n",
        "hours = x*365*24\n",
        "minutes = x * 365*60*24\n",
        "seconds = x * 365*24 *60*60\n",
        "\n",
        "print(f\"days: {days},hours: {hours} , minutes: {minutes} , seconds: {seconds}\")"
      ],
      "metadata": {
        "colab": {
          "base_uri": "https://localhost:8080/"
        },
        "id": "f-MNAZmJ_nHR",
        "outputId": "7e0faa40-ef8c-46a2-9feb-c4289e2a80e1"
      },
      "execution_count": null,
      "outputs": [
        {
          "output_type": "stream",
          "name": "stdout",
          "text": [
            "Enter your age in years : 23\n",
            "days: 8395,hours: 201480 , minutes: 12088800 , seconds: 725328000\n"
          ]
        }
      ]
    },
    {
      "cell_type": "code",
      "source": [
        "#Tip calculator\n",
        "def calculator():\n",
        "  price = float(input(\"Enter the price\"))\n",
        "  percentage = float(input(\"Enter the percentage to tip\"))\n",
        "\n",
        "  tip = (price * percentage)/100\n",
        "  round(tip,2)\n",
        "  print(f\"The tip is: {tip}rs\")"
      ],
      "metadata": {
        "id": "L9LgEMgEBDYQ"
      },
      "execution_count": null,
      "outputs": []
    },
    {
      "cell_type": "code",
      "source": [
        "calculator()"
      ],
      "metadata": {
        "colab": {
          "base_uri": "https://localhost:8080/"
        },
        "id": "C3meTbTbBwTK",
        "outputId": "0e96f230-15fa-4ee2-ad1b-2e6fe60dd30b"
      },
      "execution_count": null,
      "outputs": [
        {
          "output_type": "stream",
          "name": "stdout",
          "text": [
            "Enter the price567.899\n",
            "Enter the percentage to tip6\n",
            "The tip is: 34.07394rs\n"
          ]
        }
      ]
    },
    {
      "cell_type": "code",
      "source": [
        "a = 'A'\n",
        "type(a)\n",
        "st_var1 = 2"
      ],
      "metadata": {
        "id": "J36U3WIsBxZV"
      },
      "execution_count": null,
      "outputs": []
    },
    {
      "cell_type": "code",
      "source": [
        "import keyword\n",
        "print(keyword.kwlist)"
      ],
      "metadata": {
        "colab": {
          "base_uri": "https://localhost:8080/"
        },
        "id": "OFC9Q3omHbE4",
        "outputId": "93bd6cbc-7f57-4eb6-c5d6-2ec274444482"
      },
      "execution_count": null,
      "outputs": [
        {
          "output_type": "stream",
          "name": "stdout",
          "text": [
            "['False', 'None', 'True', 'and', 'as', 'assert', 'async', 'await', 'break', 'class', 'continue', 'def', 'del', 'elif', 'else', 'except', 'finally', 'for', 'from', 'global', 'if', 'import', 'in', 'is', 'lambda', 'nonlocal', 'not', 'or', 'pass', 'raise', 'return', 'try', 'while', 'with', 'yield']\n"
          ]
        }
      ]
    },
    {
      "cell_type": "code",
      "source": [
        "a = 10\n",
        "if (a%2) == 0:\n",
        "  print(\"even\")\n",
        "else:\n",
        "  print(\"Odd\")"
      ],
      "metadata": {
        "colab": {
          "base_uri": "https://localhost:8080/"
        },
        "id": "4wmMVoMSHdj9",
        "outputId": "04101a6d-4121-4049-f0c5-022b4d9d8770"
      },
      "execution_count": null,
      "outputs": [
        {
          "output_type": "stream",
          "name": "stdout",
          "text": [
            "even\n"
          ]
        }
      ]
    },
    {
      "cell_type": "code",
      "source": [
        "#Program to prompt the user for hours and rate per hour to compute the gross pay\n",
        "def gross_pay():\n",
        "\n",
        " x = float(input(\"Enter time in hours: \"))\n",
        " y = float(input(\"Enter the rate per hour: \"))\n",
        "\n",
        " g   = x * y\n",
        " print(\"Gross Pay = \",g,\"Rs\")"
      ],
      "metadata": {
        "id": "Sj7cNUM_6IWU"
      },
      "execution_count": 4,
      "outputs": []
    },
    {
      "cell_type": "code",
      "source": [
        "gross_pay()"
      ],
      "metadata": {
        "colab": {
          "base_uri": "https://localhost:8080/"
        },
        "id": "ezel-Eeq7Q-W",
        "outputId": "7853f6e2-3b44-4d3c-a5b7-5c7a7003908e"
      },
      "execution_count": 5,
      "outputs": [
        {
          "output_type": "stream",
          "name": "stdout",
          "text": [
            "Enter time in hours: 56\n",
            "Enter the rate per hour: 100\n",
            "Gross Pay =  5600.0 Rs\n"
          ]
        }
      ]
    }
  ]
}